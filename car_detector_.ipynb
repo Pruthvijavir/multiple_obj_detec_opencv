{
 "cells": [
  {
   "cell_type": "code",
   "execution_count": 1,
   "id": "f9a9abb5",
   "metadata": {},
   "outputs": [
    {
     "ename": "error",
     "evalue": "OpenCV(4.9.0) D:\\a\\opencv-python\\opencv-python\\opencv\\modules\\imgproc\\src\\color.cpp:196: error: (-215:Assertion failed) !_src.empty() in function 'cv::cvtColor'\n",
     "output_type": "error",
     "traceback": [
      "\u001b[1;31m---------------------------------------------------------------------------\u001b[0m",
      "\u001b[1;31merror\u001b[0m                                     Traceback (most recent call last)",
      "Cell \u001b[1;32mIn[1], line 20\u001b[0m\n\u001b[0;32m     17\u001b[0m time\u001b[38;5;241m.\u001b[39msleep(\u001b[38;5;241m0.02\u001b[39m)\n\u001b[0;32m     19\u001b[0m \u001b[38;5;66;03m# grayscaling_frame\u001b[39;00m\n\u001b[1;32m---> 20\u001b[0m gray\u001b[38;5;241m=\u001b[39m\u001b[43mcv2\u001b[49m\u001b[38;5;241;43m.\u001b[39;49m\u001b[43mcvtColor\u001b[49m\u001b[43m(\u001b[49m\u001b[43mframe\u001b[49m\u001b[43m,\u001b[49m\u001b[43mcv2\u001b[49m\u001b[38;5;241;43m.\u001b[39;49m\u001b[43mCOLOR_BGR2GRAY\u001b[49m\u001b[43m)\u001b[49m\n\u001b[0;32m     22\u001b[0m \u001b[38;5;66;03m# detecting_cars\u001b[39;00m\n\u001b[0;32m     23\u001b[0m cars\u001b[38;5;241m=\u001b[39mcar_classifier\u001b[38;5;241m.\u001b[39mdetectMultiScale(gray,\u001b[38;5;241m1.3\u001b[39m,\u001b[38;5;241m3\u001b[39m)\n",
      "\u001b[1;31merror\u001b[0m: OpenCV(4.9.0) D:\\a\\opencv-python\\opencv-python\\opencv\\modules\\imgproc\\src\\color.cpp:196: error: (-215:Assertion failed) !_src.empty() in function 'cv::cvtColor'\n"
     ]
    }
   ],
   "source": [
    "import cv2\n",
    "import numpy as np\n",
    "import time\n",
    "\n",
    "# loading_classifier\n",
    "car_classifier=cv2.CascadeClassifier('haarcascades/haarcascade_car.xml')\n",
    "\n",
    "# video_capture_from_file\n",
    "cap=cv2.VideoCapture('data/cars_youtube.mp4')\n",
    "\n",
    "while cap.isOpened():\n",
    "\n",
    "    # reading_from_file\n",
    "    ret,frame=cap.read()\n",
    "\n",
    "    # slowing_down_video\n",
    "    time.sleep(0.02)\n",
    "\n",
    "    # grayscaling_frame\n",
    "    gray=cv2.cvtColor(frame,cv2.COLOR_BGR2GRAY)\n",
    "\n",
    "    # detecting_cars\n",
    "    cars=car_classifier.detectMultiScale(gray,1.3,3)\n",
    "\n",
    "    # drawing_rectangles_on_cars\n",
    "    for (x,y,w,h) in cars:\n",
    "        cv2.rectangle(frame,(x,y),(x+w,y+h),(255,0,0),2)\n",
    "        cv2.imshow('cars_detected',frame)\n",
    "    \n",
    "    # closing_window_on_ENTER_pressed\n",
    "    if cv2.waitKey(1)==13:\n",
    "        break\n",
    "\n",
    "cap.release()\n",
    "cv2.destroyAllWindows()"
   ]
  },
  {
   "cell_type": "code",
   "execution_count": null,
   "id": "c0fd8ad6",
   "metadata": {},
   "outputs": [],
   "source": []
  }
 ],
 "metadata": {
  "kernelspec": {
   "display_name": "Python 3 (ipykernel)",
   "language": "python",
   "name": "python3"
  },
  "language_info": {
   "codemirror_mode": {
    "name": "ipython",
    "version": 3
   },
   "file_extension": ".py",
   "mimetype": "text/x-python",
   "name": "python",
   "nbconvert_exporter": "python",
   "pygments_lexer": "ipython3",
   "version": "3.9.12"
  }
 },
 "nbformat": 4,
 "nbformat_minor": 5
}
