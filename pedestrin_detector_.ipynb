{
 "cells": [
  {
   "cell_type": "code",
   "execution_count": null,
   "id": "ee87b5ec",
   "metadata": {},
   "outputs": [],
   "source": [
    "import cv2\n",
    "import numpy as np\n",
    "import time\n",
    "\n",
    "# loading_classifier\n",
    "car_classifier=cv2.CascadeClassifier('haarcascades/haarcascade_fullbody.xml')\n",
    "\n",
    "# video_capture_from_file\n",
    "cap=cv2.VideoCapture('data/walking.avi')\n",
    "\n",
    "while cap.isOpened():\n",
    "\n",
    "    # reading_from_file\n",
    "    ret,frame=cap.read()\n",
    "    if ret is True:\n",
    "        # slowing_down_video\n",
    "        # time.sleep(0.02)\n",
    "\n",
    "        # grayscaling_frame\n",
    "        gray=cv2.cvtColor(frame,cv2.COLOR_BGR2GRAY)\n",
    "\n",
    "        # detecting_cars\n",
    "        cars=car_classifier.detectMultiScale(gray,1.5,4)\n",
    "\n",
    "        # drawing_rectangles_on_cars\n",
    "        for (x,y,w,h) in cars:\n",
    "            cv2.rectangle(frame,(x,y),(x+w,y+h),(255,0,0),2)\n",
    "            cv2.imshow('pedestrians_detected',frame)\n",
    "        \n",
    "        # closing_window_on_ENTER_pressed\n",
    "        if cv2.waitKey(1)==13:\n",
    "            break\n",
    "    \n",
    "\n",
    "cap.release()\n",
    "cv2.destroyAllWindows()"
   ]
  },
  {
   "cell_type": "code",
   "execution_count": null,
   "id": "9de45855",
   "metadata": {},
   "outputs": [],
   "source": []
  }
 ],
 "metadata": {
  "kernelspec": {
   "display_name": "Python 3 (ipykernel)",
   "language": "python",
   "name": "python3"
  },
  "language_info": {
   "codemirror_mode": {
    "name": "ipython",
    "version": 3
   },
   "file_extension": ".py",
   "mimetype": "text/x-python",
   "name": "python",
   "nbconvert_exporter": "python",
   "pygments_lexer": "ipython3",
   "version": "3.9.12"
  }
 },
 "nbformat": 4,
 "nbformat_minor": 5
}
